{
  "nbformat": 4,
  "nbformat_minor": 0,
  "metadata": {
    "colab": {
      "name": "digit recognition.ipynb",
      "provenance": [],
      "include_colab_link": true
    },
    "kernelspec": {
      "name": "python3",
      "display_name": "Python 3"
    }
  },
  "cells": [
    {
      "cell_type": "markdown",
      "metadata": {
        "id": "view-in-github",
        "colab_type": "text"
      },
      "source": [
        "<a href=\"https://colab.research.google.com/github/prajwal714/Machine-Learning-Lab/blob/master/digit_recognition.ipynb\" target=\"_parent\"><img src=\"https://colab.research.google.com/assets/colab-badge.svg\" alt=\"Open In Colab\"/></a>"
      ]
    },
    {
      "cell_type": "code",
      "metadata": {
        "id": "WvPqwBzJTHcX",
        "colab_type": "code",
        "outputId": "805ae8de-f817-49ac-be5a-78341b7bbfd6",
        "colab": {
          "base_uri": "https://localhost:8080/",
          "height": 83
        }
      },
      "source": [
        "import keras  \n",
        "from keras.datasets import mnist "
      ],
      "execution_count": 0,
      "outputs": [
        {
          "output_type": "stream",
          "text": [
            "Using TensorFlow backend.\n"
          ],
          "name": "stderr"
        },
        {
          "output_type": "display_data",
          "data": {
            "text/html": [
              "<p style=\"color: red;\">\n",
              "The default version of TensorFlow in Colab will soon switch to TensorFlow 2.x.<br>\n",
              "We recommend you <a href=\"https://www.tensorflow.org/guide/migrate\" target=\"_blank\">upgrade</a> now \n",
              "or ensure your notebook will continue to use TensorFlow 1.x via the <code>%tensorflow_version 1.x</code> magic:\n",
              "<a href=\"https://colab.research.google.com/notebooks/tensorflow_version.ipynb\" target=\"_blank\">more info</a>.</p>\n"
            ],
            "text/plain": [
              "<IPython.core.display.HTML object>"
            ]
          },
          "metadata": {
            "tags": []
          }
        }
      ]
    },
    {
      "cell_type": "code",
      "metadata": {
        "id": "sS6QkwWGTMnJ",
        "colab_type": "code",
        "outputId": "b7f066e8-5b8f-4f3c-e1bb-94573ffe1acf",
        "colab": {
          "base_uri": "https://localhost:8080/",
          "height": 54
        }
      },
      "source": [
        "(x_train, y_train), (x_test, y_test) = mnist.load_data() "
      ],
      "execution_count": 0,
      "outputs": [
        {
          "output_type": "stream",
          "text": [
            "Downloading data from https://s3.amazonaws.com/img-datasets/mnist.npz\n",
            "11493376/11490434 [==============================] - 1s 0us/step\n"
          ],
          "name": "stdout"
        }
      ]
    },
    {
      "cell_type": "code",
      "metadata": {
        "id": "3-LMQjGVTS8V",
        "colab_type": "code",
        "outputId": "84487763-ae6a-4af5-b82c-849a44e3f45a",
        "colab": {
          "base_uri": "https://localhost:8080/",
          "height": 35
        }
      },
      "source": [
        "(y_train)"
      ],
      "execution_count": 0,
      "outputs": [
        {
          "output_type": "execute_result",
          "data": {
            "text/plain": [
              "array([5, 0, 4, ..., 5, 6, 8], dtype=uint8)"
            ]
          },
          "metadata": {
            "tags": []
          },
          "execution_count": 3
        }
      ]
    },
    {
      "cell_type": "code",
      "metadata": {
        "id": "YK0ru4wxUABj",
        "colab_type": "code",
        "colab": {}
      },
      "source": [
        ""
      ],
      "execution_count": 0,
      "outputs": []
    },
    {
      "cell_type": "code",
      "metadata": {
        "id": "lv512OsNTWZ2",
        "colab_type": "code",
        "colab": {}
      },
      "source": [
        "import numpy \n",
        "x_0=[]\n",
        "x_1=[]\n",
        "for i in range(len(x_train)):\n",
        "  if(y_train[i]==0):\n",
        "    x_0.append(numpy.sum(x_train[i])/786)\n",
        "  elif(y_train[i]==1):\n",
        "    x_1.append(numpy.sum(x_train[i])/786)"
      ],
      "execution_count": 0,
      "outputs": []
    },
    {
      "cell_type": "code",
      "metadata": {
        "id": "YB5O3Y_AmjUu",
        "colab_type": "code",
        "outputId": "9e611714-eb9e-4999-b67b-e92b67a6ef62",
        "colab": {
          "base_uri": "https://localhost:8080/",
          "height": 35
        }
      },
      "source": [
        "(x_0[0])"
      ],
      "execution_count": 0,
      "outputs": [
        {
          "output_type": "execute_result",
          "data": {
            "text/plain": [
              "39.56106870229008"
            ]
          },
          "metadata": {
            "tags": []
          },
          "execution_count": 15
        }
      ]
    },
    {
      "cell_type": "code",
      "metadata": {
        "id": "c4bucSAGmsgl",
        "colab_type": "code",
        "outputId": "c0485da3-4866-46bc-8f6f-23948ec72a80",
        "colab": {
          "base_uri": "https://localhost:8080/",
          "height": 35
        }
      },
      "source": [
        "x_1[0]"
      ],
      "execution_count": 0,
      "outputs": [
        {
          "output_type": "execute_result",
          "data": {
            "text/plain": [
              "21.800254452926207"
            ]
          },
          "metadata": {
            "tags": []
          },
          "execution_count": 16
        }
      ]
    },
    {
      "cell_type": "code",
      "metadata": {
        "id": "BKGxmdQpoJY3",
        "colab_type": "code",
        "outputId": "868655bd-50b0-419d-e9bc-e4139a6960d7",
        "colab": {
          "base_uri": "https://localhost:8080/",
          "height": 265
        }
      },
      "source": [
        "import matplotlib.pyplot as plt \n",
        "\n",
        "\n",
        "\n",
        "\n",
        "fig = plt.figure()\n",
        "ax1 = fig.add_subplot(111)\n",
        "\n",
        "\n",
        "ax1.scatter(x_0, range(0,len(x_0)), label= \"stars\", color= \"green\", marker= \"*\", s=30) \n",
        "ax1.scatter(x_1, range(0,len(x_1)), label= \"stars\", color= \"red\", marker= \"+\", s=30) \n",
        "# x = range(100)\n",
        "# y = range(100,200)\n",
        "# ax1.scatter(x[:4], y[:4], s=10, c='b', marker=\"s\", label='first')\n",
        "# ax1.scatter(x[40:],y[40:], s=10, c='r', marker=\"o\", label='second')\n",
        "plt.legend(loc='upper left');\n",
        "plt.show()\n",
        "\n",
        "\n",
        "# plt.legend(loc='upper left');\n",
        "# plt.show()"
      ],
      "execution_count": 0,
      "outputs": [
        {
          "output_type": "display_data",
          "data": {
            "image/png": "[encoded data removed]",
            "text/plain": [
              "<Figure size 432x288 with 1 Axes>"
            ]
          },
          "metadata": {
            "tags": []
          }
        }
      ]
    },
    {
      "cell_type": "code",
      "metadata": {
        "id": "AdtaE_03o5h0",
        "colab_type": "code",
        "colab": {}
      },
      "source": [
        "import numpy \n",
        "y_pred=[]\n",
        "for i in range(len(x_test)):\n",
        "    y_pred.append(1 if (numpy.sum(x_test[i])/786)<=29 else 0)"
      ],
      "execution_count": 0,
      "outputs": []
    },
    {
      "cell_type": "code",
      "metadata": {
        "id": "GzoR7fvisNaz",
        "colab_type": "code",
        "outputId": "cbbe2240-5d38-4db2-f441-32b5a5a81a54",
        "colab": {
          "base_uri": "https://localhost:8080/",
          "height": 35
        }
      },
      "source": [
        "pos=0\n",
        "neg=0\n",
        "for i in range(len(y_test)):\n",
        "  if(y_test[i]==0 or y_test[i]==1):\n",
        "    if(y_test[i]==y_pred[i]):\n",
        "      pos+=1\n",
        "    else:\n",
        "      neg+=1\n",
        "\n",
        "print(pos/(pos+neg)*100)\n"
      ],
      "execution_count": 0,
      "outputs": [
        {
          "output_type": "stream",
          "text": [
            "93.47517730496455\n"
          ],
          "name": "stdout"
        }
      ]
    },
    {
      "cell_type": "code",
      "metadata": {
        "id": "7CHw5dputNaD",
        "colab_type": "code",
        "colab": {}
      },
      "source": [
        ""
      ],
      "execution_count": 0,
      "outputs": []
    }
  ]
}